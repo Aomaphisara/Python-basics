{
  "nbformat": 4,
  "nbformat_minor": 0,
  "metadata": {
    "colab": {
      "provenance": [],
      "toc_visible": true,
      "mount_file_id": "1ShM_VqNXvtC8tkrR8ofB2248Dz6AGmys",
      "authorship_tag": "ABX9TyNIAHlxqiDKsEC8blD7l/aW",
      "include_colab_link": true
    },
    "kernelspec": {
      "name": "python3",
      "display_name": "Python 3"
    },
    "language_info": {
      "name": "python"
    }
  },
  "cells": [
    {
      "cell_type": "markdown",
      "metadata": {
        "id": "view-in-github",
        "colab_type": "text"
      },
      "source": [
        "<a href=\"https://colab.research.google.com/github/Aomaphisara/Python-basics/blob/main/Regreesion.ipynb\" target=\"_parent\"><img src=\"https://colab.research.google.com/assets/colab-badge.svg\" alt=\"Open In Colab\"/></a>"
      ]
    },
    {
      "cell_type": "markdown",
      "source": [
        "# รู้จัก Linear Regression"
      ],
      "metadata": {
        "id": "bQ9jHpzO9Pbi"
      }
    },
    {
      "cell_type": "markdown",
      "source": [
        "[สรุป Machine Learning- การวิเคราะห์การถดถอยเชิงเส้น (Linear Regression)](https://kongruksiam.medium.com/%E0%B8%AA%E0%B8%A3%E0%B8%B8%E0%B8%9B-machine-learning-ep-3-%E0%B8%81%E0%B8%B2%E0%B8%A3%E0%B8%A7%E0%B8%B4%E0%B9%80%E0%B8%84%E0%B8%A3%E0%B8%B2%E0%B8%B0%E0%B8%AB%E0%B9%8C%E0%B8%81%E0%B8%B2%E0%B8%A3%E0%B8%96%E0%B8%94%E0%B8%96%E0%B8%AD%E0%B8%A2%E0%B9%80%E0%B8%8A%E0%B8%B4%E0%B8%87%E0%B9%80%E0%B8%AA%E0%B9%89%E0%B8%99-linear-regression-891260e4a957)"
      ],
      "metadata": {
        "id": "I6ZI8cpL3ULb"
      }
    },
    {
      "cell_type": "code",
      "source": [
        "pip install matplotlib"
      ],
      "metadata": {
        "colab": {
          "base_uri": "https://localhost:8080/"
        },
        "id": "g6FxRenI5S_s",
        "outputId": "67c424ee-93bb-4ddc-8871-089ed0c35b50"
      },
      "execution_count": 14,
      "outputs": [
        {
          "output_type": "stream",
          "name": "stdout",
          "text": [
            "Looking in indexes: https://pypi.org/simple, https://us-python.pkg.dev/colab-wheels/public/simple/\n",
            "Requirement already satisfied: matplotlib in /usr/local/lib/python3.10/dist-packages (3.7.1)\n",
            "Requirement already satisfied: contourpy>=1.0.1 in /usr/local/lib/python3.10/dist-packages (from matplotlib) (1.0.7)\n",
            "Requirement already satisfied: cycler>=0.10 in /usr/local/lib/python3.10/dist-packages (from matplotlib) (0.11.0)\n",
            "Requirement already satisfied: fonttools>=4.22.0 in /usr/local/lib/python3.10/dist-packages (from matplotlib) (4.39.3)\n",
            "Requirement already satisfied: kiwisolver>=1.0.1 in /usr/local/lib/python3.10/dist-packages (from matplotlib) (1.4.4)\n",
            "Requirement already satisfied: numpy>=1.20 in /usr/local/lib/python3.10/dist-packages (from matplotlib) (1.22.4)\n",
            "Requirement already satisfied: packaging>=20.0 in /usr/local/lib/python3.10/dist-packages (from matplotlib) (23.1)\n",
            "Requirement already satisfied: pillow>=6.2.0 in /usr/local/lib/python3.10/dist-packages (from matplotlib) (8.4.0)\n",
            "Requirement already satisfied: pyparsing>=2.3.1 in /usr/local/lib/python3.10/dist-packages (from matplotlib) (3.0.9)\n",
            "Requirement already satisfied: python-dateutil>=2.7 in /usr/local/lib/python3.10/dist-packages (from matplotlib) (2.8.2)\n",
            "Requirement already satisfied: six>=1.5 in /usr/local/lib/python3.10/dist-packages (from python-dateutil>=2.7->matplotlib) (1.16.0)\n"
          ]
        }
      ]
    },
    {
      "cell_type": "code",
      "execution_count": 15,
      "metadata": {
        "id": "7GakQGjz2-IA"
      },
      "outputs": [],
      "source": [
        "import numpy as np\n",
        "import matplotlib.pyplot as plt"
      ]
    },
    {
      "cell_type": "code",
      "source": [
        "x = np.linspace(-5,5,100) # สร้าง array -5 ถึง 5 จำนวน 100\n",
        "print(x)"
      ],
      "metadata": {
        "colab": {
          "base_uri": "https://localhost:8080/"
        },
        "id": "5Ew38Zl357rT",
        "outputId": "39e32507-8b21-4436-d40c-3e2476e73534"
      },
      "execution_count": 16,
      "outputs": [
        {
          "output_type": "stream",
          "name": "stdout",
          "text": [
            "[-5.         -4.8989899  -4.7979798  -4.6969697  -4.5959596  -4.49494949\n",
            " -4.39393939 -4.29292929 -4.19191919 -4.09090909 -3.98989899 -3.88888889\n",
            " -3.78787879 -3.68686869 -3.58585859 -3.48484848 -3.38383838 -3.28282828\n",
            " -3.18181818 -3.08080808 -2.97979798 -2.87878788 -2.77777778 -2.67676768\n",
            " -2.57575758 -2.47474747 -2.37373737 -2.27272727 -2.17171717 -2.07070707\n",
            " -1.96969697 -1.86868687 -1.76767677 -1.66666667 -1.56565657 -1.46464646\n",
            " -1.36363636 -1.26262626 -1.16161616 -1.06060606 -0.95959596 -0.85858586\n",
            " -0.75757576 -0.65656566 -0.55555556 -0.45454545 -0.35353535 -0.25252525\n",
            " -0.15151515 -0.05050505  0.05050505  0.15151515  0.25252525  0.35353535\n",
            "  0.45454545  0.55555556  0.65656566  0.75757576  0.85858586  0.95959596\n",
            "  1.06060606  1.16161616  1.26262626  1.36363636  1.46464646  1.56565657\n",
            "  1.66666667  1.76767677  1.86868687  1.96969697  2.07070707  2.17171717\n",
            "  2.27272727  2.37373737  2.47474747  2.57575758  2.67676768  2.77777778\n",
            "  2.87878788  2.97979798  3.08080808  3.18181818  3.28282828  3.38383838\n",
            "  3.48484848  3.58585859  3.68686869  3.78787879  3.88888889  3.98989899\n",
            "  4.09090909  4.19191919  4.29292929  4.39393939  4.49494949  4.5959596\n",
            "  4.6969697   4.7979798   4.8989899   5.        ]\n"
          ]
        }
      ]
    },
    {
      "cell_type": "code",
      "source": [
        "y = 2*x+1 # กำหนดเอง"
      ],
      "metadata": {
        "id": "Yn1b10lC6czi"
      },
      "execution_count": 17,
      "outputs": []
    },
    {
      "cell_type": "code",
      "source": [
        "plt.plot(x,y,'-r',label='y=2x+1')\n",
        "plt.xlabel('x')\n",
        "plt.ylabel('y')\n",
        "plt.legend(loc='best')\n",
        "plt.title('Graph y=2x+1')\n",
        "plt.grid()\n",
        "plt.show()"
      ],
      "metadata": {
        "colab": {
          "base_uri": "https://localhost:8080/",
          "height": 472
        },
        "id": "hK_261-864EX",
        "outputId": "b4c4d2b9-519b-4ad7-96ca-67c1c77f0ee6"
      },
      "execution_count": 21,
      "outputs": [
        {
          "output_type": "display_data",
          "data": {
            "text/plain": [
              "<Figure size 640x480 with 1 Axes>"
            ],
            "image/png": "[encoded data removed]"
          },
          "metadata": {}
        }
      ]
    },
    {
      "cell_type": "markdown",
      "source": [
        "# การกระจายข้อมูล (Scatter)"
      ],
      "metadata": {
        "id": "XT3ggBFs9G3Q"
      }
    },
    {
      "cell_type": "code",
      "source": [
        "rng = np.random\n",
        "x=rng.rand(50)*10\n",
        "print(x)"
      ],
      "metadata": {
        "colab": {
          "base_uri": "https://localhost:8080/"
        },
        "id": "dl3E-muU9seg",
        "outputId": "2b20b4c3-01cc-41b6-c290-b072b5028f8c"
      },
      "execution_count": 24,
      "outputs": [
        {
          "output_type": "stream",
          "name": "stdout",
          "text": [
            "[1.6907038  3.81441675 3.22641292 4.08689244 7.71044973 9.86052817\n",
            " 4.91494835 2.69121319 4.7123045  0.0569188  1.271007   6.5898258\n",
            " 5.41131276 3.72978788 4.20187679 4.72141103 3.70392176 9.98202134\n",
            " 8.18928658 9.97294796 7.82300956 6.32312241 3.18068695 9.68723988\n",
            " 5.38391193 5.5119858  5.00182786 5.1680754  4.55656329 2.98870098\n",
            " 4.36961031 8.63904806 6.95719473 8.95301928 3.03234244 4.79362466\n",
            " 4.89737893 5.95859001 5.38059926 8.01925837 4.12048203 4.83956941\n",
            " 4.47592194 5.69937696 5.29600134 7.63171167 7.15848635 2.62772429\n",
            " 5.03444353 8.49822998]\n"
          ]
        }
      ]
    },
    {
      "cell_type": "code",
      "source": [
        "y=2*x+rng.randn(50) \n",
        "print(y)"
      ],
      "metadata": {
        "colab": {
          "base_uri": "https://localhost:8080/"
        },
        "id": "wwOBMQ0t-r4L",
        "outputId": "24a8d75e-f4fd-4a80-c92e-b750e2653406"
      },
      "execution_count": 29,
      "outputs": [
        {
          "output_type": "stream",
          "name": "stdout",
          "text": [
            "[ 4.46427756  7.45923515  7.81438689  8.40416934 16.34090466 19.86110944\n",
            " 10.26938318  5.73628979  8.60476587 -0.51188527  0.98278501 14.37577249\n",
            " 10.32595484  9.02622583  7.97844463  8.74238356  6.08924933 19.78208356\n",
            " 17.72475626 20.16360083 14.8797014  13.19361712  6.29534344 20.63706229\n",
            " 10.7481917  11.23731707  9.45729945 10.60941301  9.41121343  7.42050495\n",
            "  9.13611702 17.50464893 12.64711028 18.90351167  6.53438908  8.55975059\n",
            "  8.41450686 14.84687771 10.11795408 16.03082247  6.92022106 10.37784405\n",
            "  9.52222036 13.81827141 10.73051084 14.81202982 15.0748411   5.58285273\n",
            " 10.69949    17.93888305]\n"
          ]
        }
      ]
    },
    {
      "cell_type": "code",
      "source": [
        "plt.plot(x,y)\n",
        "plt.xlabel('x')\n",
        "plt.ylabel('y')\n",
        "plt.show()"
      ],
      "metadata": {
        "colab": {
          "base_uri": "https://localhost:8080/",
          "height": 449
        },
        "id": "-rmJZD4q_Y5a",
        "outputId": "fabfde74-eab3-4239-c931-92f1db180dfc"
      },
      "execution_count": 30,
      "outputs": [
        {
          "output_type": "display_data",
          "data": {
            "text/plain": [
              "<Figure size 640x480 with 1 Axes>"
            ],
            "image/png": "[encoded data removed]"
          },
          "metadata": {}
        }
      ]
    },
    {
      "cell_type": "code",
      "source": [
        "plt.scatter(x,y)\n",
        "plt.xlabel('x')\n",
        "plt.ylabel('y')\n",
        "plt.show()"
      ],
      "metadata": {
        "colab": {
          "base_uri": "https://localhost:8080/",
          "height": 449
        },
        "id": "wbcBwbbM_yp5",
        "outputId": "69eb4595-a93e-4423-f457-db3ff976b3b1"
      },
      "execution_count": 31,
      "outputs": [
        {
          "output_type": "display_data",
          "data": {
            "text/plain": [
              "<Figure size 640x480 with 1 Axes>"
            ],
            "image/png": "[encoded data removed]"
          },
          "metadata": {}
        }
      ]
    },
    {
      "cell_type": "markdown",
      "source": [
        "# การสร้างโมเดล Linear Regression\n",
        "สร้างโมเดลทำนายอุณหภูมิ"
      ],
      "metadata": {
        "id": "pgfolFXEADMV"
      }
    },
    {
      "cell_type": "markdown",
      "source": [
        "[สรุป Machine Learning - รู้จักกับข้อมูลชุดเรียนรู้และข้อมูลชุดทดสอบ](https://kongruksiam.medium.com/%E0%B8%AA%E0%B8%A3%E0%B8%B8%E0%B8%9B-machine-learning-ep-2-%E0%B8%A3%E0%B8%B9%E0%B9%89%E0%B8%88%E0%B8%B1%E0%B8%81%E0%B8%81%E0%B8%B1%E0%B8%9A%E0%B8%82%E0%B9%89%E0%B8%AD%E0%B8%A1%E0%B8%B9%E0%B8%A5%E0%B8%8A%E0%B8%B8%E0%B8%94%E0%B9%80%E0%B8%A3%E0%B8%B5%E0%B8%A2%E0%B8%99%E0%B8%A3%E0%B8%B9%E0%B9%89%E0%B9%81%E0%B8%A5%E0%B8%B0%E0%B8%82%E0%B9%89%E0%B8%AD%E0%B8%A1%E0%B8%B9%E0%B8%A5%E0%B8%8A%E0%B8%B8%E0%B8%94%E0%B8%97%E0%B8%94%E0%B8%AA%E0%B8%AD%E0%B8%9A-119a16a901c8)"
      ],
      "metadata": {
        "id": "wYMGT_pQBq8g"
      }
    },
    {
      "cell_type": "code",
      "source": [
        "from sklearn.linear_model import LinearRegression\n",
        "from sklearn.model_selection import train_test_split"
      ],
      "metadata": {
        "id": "7XmHBuFSAOSK"
      },
      "execution_count": 37,
      "outputs": []
    },
    {
      "cell_type": "code",
      "source": [
        "import pandas as pd"
      ],
      "metadata": {
        "id": "vAu5AC9MHjsz"
      },
      "execution_count": 71,
      "outputs": []
    },
    {
      "cell_type": "code",
      "source": [
        "from google.colab import drive\n",
        "drive.mount('/content/drive')"
      ],
      "metadata": {
        "colab": {
          "base_uri": "https://localhost:8080/"
        },
        "id": "xtMJEIjyDFNI",
        "outputId": "1425ef21-1b87-490e-eadc-ac245bc087f1"
      },
      "execution_count": 33,
      "outputs": [
        {
          "output_type": "stream",
          "name": "stdout",
          "text": [
            "Mounted at /content/drive\n"
          ]
        }
      ]
    },
    {
      "cell_type": "code",
      "source": [
        "dataset = pd.read_csv('/content/drive/MyDrive/BPDV65/Weather.csv')\n",
        "print(dataset.shape) # shown nomber of (row, column)\n",
        "dataset.head(3)"
      ],
      "metadata": {
        "colab": {
          "base_uri": "https://localhost:8080/",
          "height": 341
        },
        "id": "2cEWoZTtG-Dk",
        "outputId": "98116697-6ab3-42a9-ce47-46250719a74d"
      },
      "execution_count": 58,
      "outputs": [
        {
          "output_type": "stream",
          "name": "stdout",
          "text": [
            "(119040, 31)\n"
          ]
        },
        {
          "output_type": "stream",
          "name": "stderr",
          "text": [
            "<ipython-input-58-6ead74f3fb88>:1: DtypeWarning: Columns (7,8,18,25) have mixed types. Specify dtype option on import or set low_memory=False.\n",
            "  dataset = pd.read_csv('/content/drive/MyDrive/BPDV65/Weather.csv')\n"
          ]
        },
        {
          "output_type": "execute_result",
          "data": {
            "text/plain": [
              "     STA      Date Precip  WindGustSpd    MaxTemp    MinTemp   MeanTemp  \\\n",
              "0  10001  1942-7-1  1.016          NaN  25.555556  22.222222  23.888889   \n",
              "1  10001  1942-7-2      0          NaN  28.888889  21.666667  25.555556   \n",
              "2  10001  1942-7-3   2.54          NaN  26.111111  22.222222  24.444444   \n",
              "\n",
              "  Snowfall PoorWeather  YR  ...  FB  FTI ITH  PGT  TSHDSBRSGF  SD3  RHX  RHN  \\\n",
              "0      0.0         NaN  42  ... NaN  NaN NaN  NaN         NaN  NaN  NaN  NaN   \n",
              "1      0.0         NaN  42  ... NaN  NaN NaN  NaN         NaN  NaN  NaN  NaN   \n",
              "2      0.0         NaN  42  ... NaN  NaN NaN  NaN         NaN  NaN  NaN  NaN   \n",
              "\n",
              "  RVG  WTE  \n",
              "0 NaN  NaN  \n",
              "1 NaN  NaN  \n",
              "2 NaN  NaN  \n",
              "\n",
              "[3 rows x 31 columns]"
            ],
            "text/html": [
              "\n",
              "  <div id=\"df-1614f1fc-5bc9-4e8c-b591-ae1bdc789f4d\">\n",
              "    <div class=\"colab-df-container\">\n",
              "      <div>\n",
              "<style scoped>\n",
              "    .dataframe tbody tr th:only-of-type {\n",
              "        vertical-align: middle;\n",
              "    }\n",
              "\n",
              "    .dataframe tbody tr th {\n",
              "        vertical-align: top;\n",
              "    }\n",
              "\n",
              "    .dataframe thead th {\n",
              "        text-align: right;\n",
              "    }\n",
              "</style>\n",
              "<table border=\"1\" class=\"dataframe\">\n",
              "  <thead>\n",
              "    <tr style=\"text-align: right;\">\n",
              "      <th></th>\n",
              "      <th>STA</th>\n",
              "      <th>Date</th>\n",
              "      <th>Precip</th>\n",
              "      <th>WindGustSpd</th>\n",
              "      <th>MaxTemp</th>\n",
              "      <th>MinTemp</th>\n",
              "      <th>MeanTemp</th>\n",
              "      <th>Snowfall</th>\n",
              "      <th>PoorWeather</th>\n",
              "      <th>YR</th>\n",
              "      <th>...</th>\n",
              "      <th>FB</th>\n",
              "      <th>FTI</th>\n",
              "      <th>ITH</th>\n",
              "      <th>PGT</th>\n",
              "      <th>TSHDSBRSGF</th>\n",
              "      <th>SD3</th>\n",
              "      <th>RHX</th>\n",
              "      <th>RHN</th>\n",
              "      <th>RVG</th>\n",
              "      <th>WTE</th>\n",
              "    </tr>\n",
              "  </thead>\n",
              "  <tbody>\n",
              "    <tr>\n",
              "      <th>0</th>\n",
              "      <td>10001</td>\n",
              "      <td>1942-7-1</td>\n",
              "      <td>1.016</td>\n",
              "      <td>NaN</td>\n",
              "      <td>25.555556</td>\n",
              "      <td>22.222222</td>\n",
              "      <td>23.888889</td>\n",
              "      <td>0.0</td>\n",
              "      <td>NaN</td>\n",
              "      <td>42</td>\n",
              "      <td>...</td>\n",
              "      <td>NaN</td>\n",
              "      <td>NaN</td>\n",
              "      <td>NaN</td>\n",
              "      <td>NaN</td>\n",
              "      <td>NaN</td>\n",
              "      <td>NaN</td>\n",
              "      <td>NaN</td>\n",
              "      <td>NaN</td>\n",
              "      <td>NaN</td>\n",
              "      <td>NaN</td>\n",
              "    </tr>\n",
              "    <tr>\n",
              "      <th>1</th>\n",
              "      <td>10001</td>\n",
              "      <td>1942-7-2</td>\n",
              "      <td>0</td>\n",
              "      <td>NaN</td>\n",
              "      <td>28.888889</td>\n",
              "      <td>21.666667</td>\n",
              "      <td>25.555556</td>\n",
              "      <td>0.0</td>\n",
              "      <td>NaN</td>\n",
              "      <td>42</td>\n",
              "      <td>...</td>\n",
              "      <td>NaN</td>\n",
              "      <td>NaN</td>\n",
              "      <td>NaN</td>\n",
              "      <td>NaN</td>\n",
              "      <td>NaN</td>\n",
              "      <td>NaN</td>\n",
              "      <td>NaN</td>\n",
              "      <td>NaN</td>\n",
              "      <td>NaN</td>\n",
              "      <td>NaN</td>\n",
              "    </tr>\n",
              "    <tr>\n",
              "      <th>2</th>\n",
              "      <td>10001</td>\n",
              "      <td>1942-7-3</td>\n",
              "      <td>2.54</td>\n",
              "      <td>NaN</td>\n",
              "      <td>26.111111</td>\n",
              "      <td>22.222222</td>\n",
              "      <td>24.444444</td>\n",
              "      <td>0.0</td>\n",
              "      <td>NaN</td>\n",
              "      <td>42</td>\n",
              "      <td>...</td>\n",
              "      <td>NaN</td>\n",
              "      <td>NaN</td>\n",
              "      <td>NaN</td>\n",
              "      <td>NaN</td>\n",
              "      <td>NaN</td>\n",
              "      <td>NaN</td>\n",
              "      <td>NaN</td>\n",
              "      <td>NaN</td>\n",
              "      <td>NaN</td>\n",
              "      <td>NaN</td>\n",
              "    </tr>\n",
              "  </tbody>\n",
              "</table>\n",
              "<p>3 rows × 31 columns</p>\n",
              "</div>\n",
              "      <button class=\"colab-df-convert\" onclick=\"convertToInteractive('df-1614f1fc-5bc9-4e8c-b591-ae1bdc789f4d')\"\n",
              "              title=\"Convert this dataframe to an interactive table.\"\n",
              "              style=\"display:none;\">\n",
              "        \n",
              "  <svg xmlns=\"http://www.w3.org/2000/svg\" height=\"24px\"viewBox=\"0 0 24 24\"\n",
              "       width=\"24px\">\n",
              "    <path d=\"M0 0h24v24H0V0z\" fill=\"none\"/>\n",
              "    <path d=\"M18.56 5.44l.94 2.06.94-2.06 2.06-.94-2.06-.94-.94-2.06-.94 2.06-2.06.94zm-11 1L8.5 8.5l.94-2.06 2.06-.94-2.06-.94L8.5 2.5l-.94 2.06-2.06.94zm10 10l.94 2.06.94-2.06 2.06-.94-2.06-.94-.94-2.06-.94 2.06-2.06.94z\"/><path d=\"M17.41 7.96l-1.37-1.37c-.4-.4-.92-.59-1.43-.59-.52 0-1.04.2-1.43.59L10.3 9.45l-7.72 7.72c-.78.78-.78 2.05 0 2.83L4 21.41c.39.39.9.59 1.41.59.51 0 1.02-.2 1.41-.59l7.78-7.78 2.81-2.81c.8-.78.8-2.07 0-2.86zM5.41 20L4 18.59l7.72-7.72 1.47 1.35L5.41 20z\"/>\n",
              "  </svg>\n",
              "      </button>\n",
              "      \n",
              "  <style>\n",
              "    .colab-df-container {\n",
              "      display:flex;\n",
              "      flex-wrap:wrap;\n",
              "      gap: 12px;\n",
              "    }\n",
              "\n",
              "    .colab-df-convert {\n",
              "      background-color: #E8F0FE;\n",
              "      border: none;\n",
              "      border-radius: 50%;\n",
              "      cursor: pointer;\n",
              "      display: none;\n",
              "      fill: #1967D2;\n",
              "      height: 32px;\n",
              "      padding: 0 0 0 0;\n",
              "      width: 32px;\n",
              "    }\n",
              "\n",
              "    .colab-df-convert:hover {\n",
              "      background-color: #E2EBFA;\n",
              "      box-shadow: 0px 1px 2px rgba(60, 64, 67, 0.3), 0px 1px 3px 1px rgba(60, 64, 67, 0.15);\n",
              "      fill: #174EA6;\n",
              "    }\n",
              "\n",
              "    [theme=dark] .colab-df-convert {\n",
              "      background-color: #3B4455;\n",
              "      fill: #D2E3FC;\n",
              "    }\n",
              "\n",
              "    [theme=dark] .colab-df-convert:hover {\n",
              "      background-color: #434B5C;\n",
              "      box-shadow: 0px 1px 3px 1px rgba(0, 0, 0, 0.15);\n",
              "      filter: drop-shadow(0px 1px 2px rgba(0, 0, 0, 0.3));\n",
              "      fill: #FFFFFF;\n",
              "    }\n",
              "  </style>\n",
              "\n",
              "      <script>\n",
              "        const buttonEl =\n",
              "          document.querySelector('#df-1614f1fc-5bc9-4e8c-b591-ae1bdc789f4d button.colab-df-convert');\n",
              "        buttonEl.style.display =\n",
              "          google.colab.kernel.accessAllowed ? 'block' : 'none';\n",
              "\n",
              "        async function convertToInteractive(key) {\n",
              "          const element = document.querySelector('#df-1614f1fc-5bc9-4e8c-b591-ae1bdc789f4d');\n",
              "          const dataTable =\n",
              "            await google.colab.kernel.invokeFunction('convertToInteractive',\n",
              "                                                     [key], {});\n",
              "          if (!dataTable) return;\n",
              "\n",
              "          const docLinkHtml = 'Like what you see? Visit the ' +\n",
              "            '<a target=\"_blank\" href=https://colab.research.google.com/notebooks/data_table.ipynb>data table notebook</a>'\n",
              "            + ' to learn more about interactive tables.';\n",
              "          element.innerHTML = '';\n",
              "          dataTable['output_type'] = 'display_data';\n",
              "          await google.colab.output.renderOutput(dataTable, element);\n",
              "          const docLink = document.createElement('div');\n",
              "          docLink.innerHTML = docLinkHtml;\n",
              "          element.appendChild(docLink);\n",
              "        }\n",
              "      </script>\n",
              "    </div>\n",
              "  </div>\n",
              "  "
            ]
          },
          "metadata": {},
          "execution_count": 58
        }
      ]
    },
    {
      "cell_type": "code",
      "source": [
        "dataset.plot(x='MinTemp',y='MaxTemp',style=\"o\") # style จุด\n",
        "plt.title('Min & Max Tmp')\n",
        "plt.xlabel('MinTemp')\n",
        "plt.ylabel('MaxTemp')\n",
        "plt.show()"
      ],
      "metadata": {
        "colab": {
          "base_uri": "https://localhost:8080/",
          "height": 472
        },
        "id": "eQIoVnu0ISPq",
        "outputId": "240e4cf5-5786-4bb1-e8c2-5939b3418782"
      },
      "execution_count": 59,
      "outputs": [
        {
          "output_type": "display_data",
          "data": {
            "text/plain": [
              "<Figure size 640x480 with 1 Axes>"
            ],
            "image/png": "[encoded data removed]"
          },
          "metadata": {}
        }
      ]
    },
    {
      "cell_type": "code",
      "source": [
        "dataset.describe()"
      ],
      "metadata": {
        "colab": {
          "base_uri": "https://localhost:8080/",
          "height": 393
        },
        "id": "su8I0q-tJTvB",
        "outputId": "31a2cdd6-4233-416d-fad1-41a1ed4b8335"
      },
      "execution_count": 60,
      "outputs": [
        {
          "output_type": "execute_result",
          "data": {
            "text/plain": [
              "                 STA  WindGustSpd        MaxTemp        MinTemp  \\\n",
              "count  119040.000000   532.000000  119040.000000  119040.000000   \n",
              "mean    29659.435795    37.774534      27.045111      17.789511   \n",
              "std     20953.209402    10.297808       8.717817       8.334572   \n",
              "min     10001.000000    18.520000     -33.333333     -38.333333   \n",
              "25%     11801.000000    29.632000      25.555556      15.000000   \n",
              "50%     22508.000000    37.040000      29.444444      21.111111   \n",
              "75%     33501.000000    43.059000      31.666667      23.333333   \n",
              "max     82506.000000    75.932000      50.000000      34.444444   \n",
              "\n",
              "            MeanTemp             YR             MO             DA          DR  \\\n",
              "count  119040.000000  119040.000000  119040.000000  119040.000000  533.000000   \n",
              "mean       22.411631      43.805284       6.726016      15.797530   26.998124   \n",
              "std         8.297982       1.136718       3.425561       8.794541   15.221732   \n",
              "min       -35.555556      40.000000       1.000000       1.000000    2.000000   \n",
              "25%        20.555556      43.000000       4.000000       8.000000   11.000000   \n",
              "50%        25.555556      44.000000       7.000000      16.000000   32.000000   \n",
              "75%        27.222222      45.000000      10.000000      23.000000   34.000000   \n",
              "max        40.000000      45.000000      12.000000      31.000000   78.000000   \n",
              "\n",
              "              SPD  ...   FT   FB  FTI  ITH         PGT  SD3  RHX  RHN  RVG  \\\n",
              "count  532.000000  ...  0.0  0.0  0.0  0.0  525.000000  0.0  0.0  0.0  0.0   \n",
              "mean    20.396617  ...  NaN  NaN  NaN  NaN   12.085333  NaN  NaN  NaN  NaN   \n",
              "std      5.560371  ...  NaN  NaN  NaN  NaN    5.731328  NaN  NaN  NaN  NaN   \n",
              "min     10.000000  ...  NaN  NaN  NaN  NaN    0.000000  NaN  NaN  NaN  NaN   \n",
              "25%     16.000000  ...  NaN  NaN  NaN  NaN    8.500000  NaN  NaN  NaN  NaN   \n",
              "50%     20.000000  ...  NaN  NaN  NaN  NaN   11.600000  NaN  NaN  NaN  NaN   \n",
              "75%     23.250000  ...  NaN  NaN  NaN  NaN   15.000000  NaN  NaN  NaN  NaN   \n",
              "max     41.000000  ...  NaN  NaN  NaN  NaN   23.900000  NaN  NaN  NaN  NaN   \n",
              "\n",
              "       WTE  \n",
              "count  0.0  \n",
              "mean   NaN  \n",
              "std    NaN  \n",
              "min    NaN  \n",
              "25%    NaN  \n",
              "50%    NaN  \n",
              "75%    NaN  \n",
              "max    NaN  \n",
              "\n",
              "[8 rows x 24 columns]"
            ],
            "text/html": [
              "\n",
              "  <div id=\"df-c4c1d1fa-6be0-4e62-ab62-34d1451c911e\">\n",
              "    <div class=\"colab-df-container\">\n",
              "      <div>\n",
              "<style scoped>\n",
              "    .dataframe tbody tr th:only-of-type {\n",
              "        vertical-align: middle;\n",
              "    }\n",
              "\n",
              "    .dataframe tbody tr th {\n",
              "        vertical-align: top;\n",
              "    }\n",
              "\n",
              "    .dataframe thead th {\n",
              "        text-align: right;\n",
              "    }\n",
              "</style>\n",
              "<table border=\"1\" class=\"dataframe\">\n",
              "  <thead>\n",
              "    <tr style=\"text-align: right;\">\n",
              "      <th></th>\n",
              "      <th>STA</th>\n",
              "      <th>WindGustSpd</th>\n",
              "      <th>MaxTemp</th>\n",
              "      <th>MinTemp</th>\n",
              "      <th>MeanTemp</th>\n",
              "      <th>YR</th>\n",
              "      <th>MO</th>\n",
              "      <th>DA</th>\n",
              "      <th>DR</th>\n",
              "      <th>SPD</th>\n",
              "      <th>...</th>\n",
              "      <th>FT</th>\n",
              "      <th>FB</th>\n",
              "      <th>FTI</th>\n",
              "      <th>ITH</th>\n",
              "      <th>PGT</th>\n",
              "      <th>SD3</th>\n",
              "      <th>RHX</th>\n",
              "      <th>RHN</th>\n",
              "      <th>RVG</th>\n",
              "      <th>WTE</th>\n",
              "    </tr>\n",
              "  </thead>\n",
              "  <tbody>\n",
              "    <tr>\n",
              "      <th>count</th>\n",
              "      <td>119040.000000</td>\n",
              "      <td>532.000000</td>\n",
              "      <td>119040.000000</td>\n",
              "      <td>119040.000000</td>\n",
              "      <td>119040.000000</td>\n",
              "      <td>119040.000000</td>\n",
              "      <td>119040.000000</td>\n",
              "      <td>119040.000000</td>\n",
              "      <td>533.000000</td>\n",
              "      <td>532.000000</td>\n",
              "      <td>...</td>\n",
              "      <td>0.0</td>\n",
              "      <td>0.0</td>\n",
              "      <td>0.0</td>\n",
              "      <td>0.0</td>\n",
              "      <td>525.000000</td>\n",
              "      <td>0.0</td>\n",
              "      <td>0.0</td>\n",
              "      <td>0.0</td>\n",
              "      <td>0.0</td>\n",
              "      <td>0.0</td>\n",
              "    </tr>\n",
              "    <tr>\n",
              "      <th>mean</th>\n",
              "      <td>29659.435795</td>\n",
              "      <td>37.774534</td>\n",
              "      <td>27.045111</td>\n",
              "      <td>17.789511</td>\n",
              "      <td>22.411631</td>\n",
              "      <td>43.805284</td>\n",
              "      <td>6.726016</td>\n",
              "      <td>15.797530</td>\n",
              "      <td>26.998124</td>\n",
              "      <td>20.396617</td>\n",
              "      <td>...</td>\n",
              "      <td>NaN</td>\n",
              "      <td>NaN</td>\n",
              "      <td>NaN</td>\n",
              "      <td>NaN</td>\n",
              "      <td>12.085333</td>\n",
              "      <td>NaN</td>\n",
              "      <td>NaN</td>\n",
              "      <td>NaN</td>\n",
              "      <td>NaN</td>\n",
              "      <td>NaN</td>\n",
              "    </tr>\n",
              "    <tr>\n",
              "      <th>std</th>\n",
              "      <td>20953.209402</td>\n",
              "      <td>10.297808</td>\n",
              "      <td>8.717817</td>\n",
              "      <td>8.334572</td>\n",
              "      <td>8.297982</td>\n",
              "      <td>1.136718</td>\n",
              "      <td>3.425561</td>\n",
              "      <td>8.794541</td>\n",
              "      <td>15.221732</td>\n",
              "      <td>5.560371</td>\n",
              "      <td>...</td>\n",
              "      <td>NaN</td>\n",
              "      <td>NaN</td>\n",
              "      <td>NaN</td>\n",
              "      <td>NaN</td>\n",
              "      <td>5.731328</td>\n",
              "      <td>NaN</td>\n",
              "      <td>NaN</td>\n",
              "      <td>NaN</td>\n",
              "      <td>NaN</td>\n",
              "      <td>NaN</td>\n",
              "    </tr>\n",
              "    <tr>\n",
              "      <th>min</th>\n",
              "      <td>10001.000000</td>\n",
              "      <td>18.520000</td>\n",
              "      <td>-33.333333</td>\n",
              "      <td>-38.333333</td>\n",
              "      <td>-35.555556</td>\n",
              "      <td>40.000000</td>\n",
              "      <td>1.000000</td>\n",
              "      <td>1.000000</td>\n",
              "      <td>2.000000</td>\n",
              "      <td>10.000000</td>\n",
              "      <td>...</td>\n",
              "      <td>NaN</td>\n",
              "      <td>NaN</td>\n",
              "      <td>NaN</td>\n",
              "      <td>NaN</td>\n",
              "      <td>0.000000</td>\n",
              "      <td>NaN</td>\n",
              "      <td>NaN</td>\n",
              "      <td>NaN</td>\n",
              "      <td>NaN</td>\n",
              "      <td>NaN</td>\n",
              "    </tr>\n",
              "    <tr>\n",
              "      <th>25%</th>\n",
              "      <td>11801.000000</td>\n",
              "      <td>29.632000</td>\n",
              "      <td>25.555556</td>\n",
              "      <td>15.000000</td>\n",
              "      <td>20.555556</td>\n",
              "      <td>43.000000</td>\n",
              "      <td>4.000000</td>\n",
              "      <td>8.000000</td>\n",
              "      <td>11.000000</td>\n",
              "      <td>16.000000</td>\n",
              "      <td>...</td>\n",
              "      <td>NaN</td>\n",
              "      <td>NaN</td>\n",
              "      <td>NaN</td>\n",
              "      <td>NaN</td>\n",
              "      <td>8.500000</td>\n",
              "      <td>NaN</td>\n",
              "      <td>NaN</td>\n",
              "      <td>NaN</td>\n",
              "      <td>NaN</td>\n",
              "      <td>NaN</td>\n",
              "    </tr>\n",
              "    <tr>\n",
              "      <th>50%</th>\n",
              "      <td>22508.000000</td>\n",
              "      <td>37.040000</td>\n",
              "      <td>29.444444</td>\n",
              "      <td>21.111111</td>\n",
              "      <td>25.555556</td>\n",
              "      <td>44.000000</td>\n",
              "      <td>7.000000</td>\n",
              "      <td>16.000000</td>\n",
              "      <td>32.000000</td>\n",
              "      <td>20.000000</td>\n",
              "      <td>...</td>\n",
              "      <td>NaN</td>\n",
              "      <td>NaN</td>\n",
              "      <td>NaN</td>\n",
              "      <td>NaN</td>\n",
              "      <td>11.600000</td>\n",
              "      <td>NaN</td>\n",
              "      <td>NaN</td>\n",
              "      <td>NaN</td>\n",
              "      <td>NaN</td>\n",
              "      <td>NaN</td>\n",
              "    </tr>\n",
              "    <tr>\n",
              "      <th>75%</th>\n",
              "      <td>33501.000000</td>\n",
              "      <td>43.059000</td>\n",
              "      <td>31.666667</td>\n",
              "      <td>23.333333</td>\n",
              "      <td>27.222222</td>\n",
              "      <td>45.000000</td>\n",
              "      <td>10.000000</td>\n",
              "      <td>23.000000</td>\n",
              "      <td>34.000000</td>\n",
              "      <td>23.250000</td>\n",
              "      <td>...</td>\n",
              "      <td>NaN</td>\n",
              "      <td>NaN</td>\n",
              "      <td>NaN</td>\n",
              "      <td>NaN</td>\n",
              "      <td>15.000000</td>\n",
              "      <td>NaN</td>\n",
              "      <td>NaN</td>\n",
              "      <td>NaN</td>\n",
              "      <td>NaN</td>\n",
              "      <td>NaN</td>\n",
              "    </tr>\n",
              "    <tr>\n",
              "      <th>max</th>\n",
              "      <td>82506.000000</td>\n",
              "      <td>75.932000</td>\n",
              "      <td>50.000000</td>\n",
              "      <td>34.444444</td>\n",
              "      <td>40.000000</td>\n",
              "      <td>45.000000</td>\n",
              "      <td>12.000000</td>\n",
              "      <td>31.000000</td>\n",
              "      <td>78.000000</td>\n",
              "      <td>41.000000</td>\n",
              "      <td>...</td>\n",
              "      <td>NaN</td>\n",
              "      <td>NaN</td>\n",
              "      <td>NaN</td>\n",
              "      <td>NaN</td>\n",
              "      <td>23.900000</td>\n",
              "      <td>NaN</td>\n",
              "      <td>NaN</td>\n",
              "      <td>NaN</td>\n",
              "      <td>NaN</td>\n",
              "      <td>NaN</td>\n",
              "    </tr>\n",
              "  </tbody>\n",
              "</table>\n",
              "<p>8 rows × 24 columns</p>\n",
              "</div>\n",
              "      <button class=\"colab-df-convert\" onclick=\"convertToInteractive('df-c4c1d1fa-6be0-4e62-ab62-34d1451c911e')\"\n",
              "              title=\"Convert this dataframe to an interactive table.\"\n",
              "              style=\"display:none;\">\n",
              "        \n",
              "  <svg xmlns=\"http://www.w3.org/2000/svg\" height=\"24px\"viewBox=\"0 0 24 24\"\n",
              "       width=\"24px\">\n",
              "    <path d=\"M0 0h24v24H0V0z\" fill=\"none\"/>\n",
              "    <path d=\"M18.56 5.44l.94 2.06.94-2.06 2.06-.94-2.06-.94-.94-2.06-.94 2.06-2.06.94zm-11 1L8.5 8.5l.94-2.06 2.06-.94-2.06-.94L8.5 2.5l-.94 2.06-2.06.94zm10 10l.94 2.06.94-2.06 2.06-.94-2.06-.94-.94-2.06-.94 2.06-2.06.94z\"/><path d=\"M17.41 7.96l-1.37-1.37c-.4-.4-.92-.59-1.43-.59-.52 0-1.04.2-1.43.59L10.3 9.45l-7.72 7.72c-.78.78-.78 2.05 0 2.83L4 21.41c.39.39.9.59 1.41.59.51 0 1.02-.2 1.41-.59l7.78-7.78 2.81-2.81c.8-.78.8-2.07 0-2.86zM5.41 20L4 18.59l7.72-7.72 1.47 1.35L5.41 20z\"/>\n",
              "  </svg>\n",
              "      </button>\n",
              "      \n",
              "  <style>\n",
              "    .colab-df-container {\n",
              "      display:flex;\n",
              "      flex-wrap:wrap;\n",
              "      gap: 12px;\n",
              "    }\n",
              "\n",
              "    .colab-df-convert {\n",
              "      background-color: #E8F0FE;\n",
              "      border: none;\n",
              "      border-radius: 50%;\n",
              "      cursor: pointer;\n",
              "      display: none;\n",
              "      fill: #1967D2;\n",
              "      height: 32px;\n",
              "      padding: 0 0 0 0;\n",
              "      width: 32px;\n",
              "    }\n",
              "\n",
              "    .colab-df-convert:hover {\n",
              "      background-color: #E2EBFA;\n",
              "      box-shadow: 0px 1px 2px rgba(60, 64, 67, 0.3), 0px 1px 3px 1px rgba(60, 64, 67, 0.15);\n",
              "      fill: #174EA6;\n",
              "    }\n",
              "\n",
              "    [theme=dark] .colab-df-convert {\n",
              "      background-color: #3B4455;\n",
              "      fill: #D2E3FC;\n",
              "    }\n",
              "\n",
              "    [theme=dark] .colab-df-convert:hover {\n",
              "      background-color: #434B5C;\n",
              "      box-shadow: 0px 1px 3px 1px rgba(0, 0, 0, 0.15);\n",
              "      filter: drop-shadow(0px 1px 2px rgba(0, 0, 0, 0.3));\n",
              "      fill: #FFFFFF;\n",
              "    }\n",
              "  </style>\n",
              "\n",
              "      <script>\n",
              "        const buttonEl =\n",
              "          document.querySelector('#df-c4c1d1fa-6be0-4e62-ab62-34d1451c911e button.colab-df-convert');\n",
              "        buttonEl.style.display =\n",
              "          google.colab.kernel.accessAllowed ? 'block' : 'none';\n",
              "\n",
              "        async function convertToInteractive(key) {\n",
              "          const element = document.querySelector('#df-c4c1d1fa-6be0-4e62-ab62-34d1451c911e');\n",
              "          const dataTable =\n",
              "            await google.colab.kernel.invokeFunction('convertToInteractive',\n",
              "                                                     [key], {});\n",
              "          if (!dataTable) return;\n",
              "\n",
              "          const docLinkHtml = 'Like what you see? Visit the ' +\n",
              "            '<a target=\"_blank\" href=https://colab.research.google.com/notebooks/data_table.ipynb>data table notebook</a>'\n",
              "            + ' to learn more about interactive tables.';\n",
              "          element.innerHTML = '';\n",
              "          dataTable['output_type'] = 'display_data';\n",
              "          await google.colab.output.renderOutput(dataTable, element);\n",
              "          const docLink = document.createElement('div');\n",
              "          docLink.innerHTML = docLinkHtml;\n",
              "          element.appendChild(docLink);\n",
              "        }\n",
              "      </script>\n",
              "    </div>\n",
              "  </div>\n",
              "  "
            ]
          },
          "metadata": {},
          "execution_count": 60
        }
      ]
    },
    {
      "cell_type": "code",
      "source": [
        "# แยกข้อมูลออกเป็น 2 กลุ่ม train (80) & test (20)  set\n",
        "x = dataset['MinTemp'].values.reshape(-1,1) # เปลี่ยน 1 มิติ เป็น 2 มิติ\n",
        "y =  dataset['MaxTemp'].values.reshape(-1,1)"
      ],
      "metadata": {
        "id": "_soy-NEEKAhb"
      },
      "execution_count": 61,
      "outputs": []
    },
    {
      "cell_type": "code",
      "source": [
        "# split 80% - 20%\n",
        "x_train,x_test,y_train,y_test = train_test_split(x,y,test_size=0.2,random_state=0) # แยกจาก (x,y) , 20% = 0.2"
      ],
      "metadata": {
        "id": "3lkfEQXgLE4J"
      },
      "execution_count": 62,
      "outputs": []
    },
    {
      "cell_type": "markdown",
      "source": [
        "หลังจากการทำการแบ่งข้อมูล เราจะได้ค่าตัวแปร x_train และ y_train ที่เป็นชุดข้อมูลฝึกฝน ซึ่งจะถูกใช้ในกระบวนการฝึกสอน (training) และค่าตัวแปร x_test และ y_test ที่เป็นชุดข้อมูลทดสอบ ซึ่งจะถูกใช้ในการทดสอบโมเดล"
      ],
      "metadata": {
        "id": "aVJmn5qqZQwC"
      }
    },
    {
      "cell_type": "markdown",
      "source": [
        "**การวัดประสิทธิภาพ**\n",
        "- y_pred คือผลการทำนายผลลัพธ์จากโมเดล\n",
        "- y_test คือ ข้อมูลจริงที่ใช้ทดสอบการทำนายผลโมเดล"
      ],
      "metadata": {
        "id": "ucsTaUMUcF3R"
      }
    },
    {
      "cell_type": "code",
      "source": [
        "# training\n",
        "model = LinearRegression()\n",
        "model.fit(x_train,y_train) # เลือกตัว train (เรียนรู้)"
      ],
      "metadata": {
        "colab": {
          "base_uri": "https://localhost:8080/",
          "height": 75
        },
        "id": "VG51IsoQMma1",
        "outputId": "1d795396-412d-431f-e148-9cf9c2266e0d"
      },
      "execution_count": 66,
      "outputs": [
        {
          "output_type": "execute_result",
          "data": {
            "text/plain": [
              "LinearRegression()"
            ],
            "text/html": [
              "<style>#sk-container-id-3 {color: black;background-color: white;}#sk-container-id-3 pre{padding: 0;}#sk-container-id-3 div.sk-toggleable {background-color: white;}#sk-container-id-3 label.sk-toggleable__label {cursor: pointer;display: block;width: 100%;margin-bottom: 0;padding: 0.3em;box-sizing: border-box;text-align: center;}#sk-container-id-3 label.sk-toggleable__label-arrow:before {content: \"▸\";float: left;margin-right: 0.25em;color: #696969;}#sk-container-id-3 label.sk-toggleable__label-arrow:hover:before {color: black;}#sk-container-id-3 div.sk-estimator:hover label.sk-toggleable__label-arrow:before {color: black;}#sk-container-id-3 div.sk-toggleable__content {max-height: 0;max-width: 0;overflow: hidden;text-align: left;background-color: #f0f8ff;}#sk-container-id-3 div.sk-toggleable__content pre {margin: 0.2em;color: black;border-radius: 0.25em;background-color: #f0f8ff;}#sk-container-id-3 input.sk-toggleable__control:checked~div.sk-toggleable__content {max-height: 200px;max-width: 100%;overflow: auto;}#sk-container-id-3 input.sk-toggleable__control:checked~label.sk-toggleable__label-arrow:before {content: \"▾\";}#sk-container-id-3 div.sk-estimator input.sk-toggleable__control:checked~label.sk-toggleable__label {background-color: #d4ebff;}#sk-container-id-3 div.sk-label input.sk-toggleable__control:checked~label.sk-toggleable__label {background-color: #d4ebff;}#sk-container-id-3 input.sk-hidden--visually {border: 0;clip: rect(1px 1px 1px 1px);clip: rect(1px, 1px, 1px, 1px);height: 1px;margin: -1px;overflow: hidden;padding: 0;position: absolute;width: 1px;}#sk-container-id-3 div.sk-estimator {font-family: monospace;background-color: #f0f8ff;border: 1px dotted black;border-radius: 0.25em;box-sizing: border-box;margin-bottom: 0.5em;}#sk-container-id-3 div.sk-estimator:hover {background-color: #d4ebff;}#sk-container-id-3 div.sk-parallel-item::after {content: \"\";width: 100%;border-bottom: 1px solid gray;flex-grow: 1;}#sk-container-id-3 div.sk-label:hover label.sk-toggleable__label {background-color: #d4ebff;}#sk-container-id-3 div.sk-serial::before {content: \"\";position: absolute;border-left: 1px solid gray;box-sizing: border-box;top: 0;bottom: 0;left: 50%;z-index: 0;}#sk-container-id-3 div.sk-serial {display: flex;flex-direction: column;align-items: center;background-color: white;padding-right: 0.2em;padding-left: 0.2em;position: relative;}#sk-container-id-3 div.sk-item {position: relative;z-index: 1;}#sk-container-id-3 div.sk-parallel {display: flex;align-items: stretch;justify-content: center;background-color: white;position: relative;}#sk-container-id-3 div.sk-item::before, #sk-container-id-3 div.sk-parallel-item::before {content: \"\";position: absolute;border-left: 1px solid gray;box-sizing: border-box;top: 0;bottom: 0;left: 50%;z-index: -1;}#sk-container-id-3 div.sk-parallel-item {display: flex;flex-direction: column;z-index: 1;position: relative;background-color: white;}#sk-container-id-3 div.sk-parallel-item:first-child::after {align-self: flex-end;width: 50%;}#sk-container-id-3 div.sk-parallel-item:last-child::after {align-self: flex-start;width: 50%;}#sk-container-id-3 div.sk-parallel-item:only-child::after {width: 0;}#sk-container-id-3 div.sk-dashed-wrapped {border: 1px dashed gray;margin: 0 0.4em 0.5em 0.4em;box-sizing: border-box;padding-bottom: 0.4em;background-color: white;}#sk-container-id-3 div.sk-label label {font-family: monospace;font-weight: bold;display: inline-block;line-height: 1.2em;}#sk-container-id-3 div.sk-label-container {text-align: center;}#sk-container-id-3 div.sk-container {/* jupyter's `normalize.less` sets `[hidden] { display: none; }` but bootstrap.min.css set `[hidden] { display: none !important; }` so we also need the `!important` here to be able to override the default hidden behavior on the sphinx rendered scikit-learn.org. See: https://github.com/scikit-learn/scikit-learn/issues/21755 */display: inline-block !important;position: relative;}#sk-container-id-3 div.sk-text-repr-fallback {display: none;}</style><div id=\"sk-container-id-3\" class=\"sk-top-container\"><div class=\"sk-text-repr-fallback\"><pre>LinearRegression()</pre><b>In a Jupyter environment, please rerun this cell to show the HTML representation or trust the notebook. <br />On GitHub, the HTML representation is unable to render, please try loading this page with nbviewer.org.</b></div><div class=\"sk-container\" hidden><div class=\"sk-item\"><div class=\"sk-estimator sk-toggleable\"><input class=\"sk-toggleable__control sk-hidden--visually\" id=\"sk-estimator-id-3\" type=\"checkbox\" checked><label for=\"sk-estimator-id-3\" class=\"sk-toggleable__label sk-toggleable__label-arrow\">LinearRegression</label><div class=\"sk-toggleable__content\"><pre>LinearRegression()</pre></div></div></div></div></div>"
            ]
          },
          "metadata": {},
          "execution_count": 66
        }
      ]
    },
    {
      "cell_type": "code",
      "source": [
        "#test ทดสอบตัวโมเดลว่าได้ประสิทธิภาพเป็นอย่างไร\n",
        "y_pred = model.predict(x_test) # x_test ทราบค่าอยู่แล้ว ให้ทำการพยากรณ์ผลลัพธ์อุณหภูมิสูงสุดที่จะเกิดขึ้น "
      ],
      "metadata": {
        "id": "FA-ddVpLNWhD"
      },
      "execution_count": 67,
      "outputs": []
    },
    {
      "cell_type": "markdown",
      "source": [
        "แล้วนำมาหาความคลาดเคลื่อนของข้อมูลระหว่าง y_test(ค่าจริง) กับ y_pred (ทำนาย)มาเปรียบเทียบกันมาตรงกันรึเปล่า\n"
      ],
      "metadata": {
        "id": "aYkkaVRlPFfu"
      }
    },
    {
      "cell_type": "code",
      "source": [
        "plt.scatter(x_test,y_test)\n",
        "plt.plot(x_test,y_pred,color='red',linewidth=2)\n",
        "plt.show()"
      ],
      "metadata": {
        "colab": {
          "base_uri": "https://localhost:8080/",
          "height": 430
        },
        "id": "ZOhmp14HQFBn",
        "outputId": "7bb22425-db13-4dab-a6b6-5da3b87d4046"
      },
      "execution_count": 68,
      "outputs": [
        {
          "output_type": "display_data",
          "data": {
            "text/plain": [
              "<Figure size 640x480 with 1 Axes>"
            ],
            "image/png": "[encoded data removed]"
          },
          "metadata": {}
        }
      ]
    },
    {
      "cell_type": "markdown",
      "source": [
        "## เปรียบเทียบประสิทธิภาพ"
      ],
      "metadata": {
        "id": "oNCWfmAlSSFd"
      }
    },
    {
      "cell_type": "code",
      "source": [
        "# compare true data & predict data\n",
        "df = pd.DataFrame({'Actually':y_test.flatten(),'Predicted':y_pred.flatten()}) # แปลงเป็น 1 มิติ\n",
        "print(df.head())"
      ],
      "metadata": {
        "colab": {
          "base_uri": "https://localhost:8080/"
        },
        "id": "EESly9RtSLMM",
        "outputId": "da509c5a-0e39-4a75-8e44-9472a953edf4"
      },
      "execution_count": 73,
      "outputs": [
        {
          "output_type": "stream",
          "name": "stdout",
          "text": [
            "    Actually  Predicted\n",
            "0  28.888889  33.670351\n",
            "1  31.111111  30.091251\n",
            "2  27.222222  26.512151\n",
            "3  28.888889  31.113851\n",
            "4  23.333333  15.774852\n"
          ]
        }
      ]
    },
    {
      "cell_type": "code",
      "source": [
        "df1 = df.head(20)\n",
        "df1.plot(kind=\"bar\",figsize=(16,10))\n",
        "plt.show()"
      ],
      "metadata": {
        "colab": {
          "base_uri": "https://localhost:8080/",
          "height": 713
        },
        "id": "nF6CyBEvaxPN",
        "outputId": "986bf651-a10b-4fdc-f0a2-dd8091b53da4"
      },
      "execution_count": 74,
      "outputs": [
        {
          "output_type": "display_data",
          "data": {
            "text/plain": [
              "<Figure size 1600x1000 with 1 Axes>"
            ],
            "image/png": "[encoded data removed]"
          },
          "metadata": {}
        }
      ]
    },
    {
      "cell_type": "markdown",
      "source": [
        "# การวัดประสิทธิภาพโมเดล"
      ],
      "metadata": {
        "id": "uIZoOnfqRumd"
      }
    },
    {
      "cell_type": "code",
      "source": [],
      "metadata": {
        "id": "0P8SSF2nR5_E"
      },
      "execution_count": null,
      "outputs": []
    }
  ]
}